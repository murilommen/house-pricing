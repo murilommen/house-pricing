{
 "cells": [
  {
   "cell_type": "code",
   "execution_count": 3,
   "metadata": {},
   "outputs": [],
   "source": [
    "from contextlib import asynccontextmanager\n",
    "\n",
    "from fastapi import FastAPI\n",
    "import google.auth\n",
    "from google.cloud import aiplatform, storage\n",
    "import os\n",
    "import logging\n",
    "\n",
    "logger = logging.getLogger(__name__)\n",
    "logger.setLevel(logging.INFO)\n",
    "\n",
    "# TODO - set Configuration as env vars\n",
    "MODEL_ID = \"1372802939441119232\"\n",
    "LOCAL_MODEL_DIR = \"./model\"\n",
    "GOOGLE_APPLICATION_CREDENTIALS = \"../level-agent-451514-c0-fc48725fe84a.json\"\n",
    "\n",
    "credentials, project_id = google.auth.load_credentials_from_file(GOOGLE_APPLICATION_CREDENTIALS)\n",
    "\n",
    "aiplatform.init(\n",
    "    project=project_id,\n",
    "    location=\"us-central1\",\n",
    "    credentials=credentials\n",
    ")"
   ]
  },
  {
   "cell_type": "code",
   "execution_count": 4,
   "metadata": {},
   "outputs": [],
   "source": [
    "model = aiplatform.Model(model_name=\"1372802939441119232\")"
   ]
  },
  {
   "cell_type": "code",
   "execution_count": 13,
   "metadata": {},
   "outputs": [],
   "source": [
    "\n",
    "\n",
    "model_uri = model.uri\n",
    "\n",
    "if not model_uri:\n",
    "    raise ValueError(\"Model URI is not available\")\n",
    "\n",
    "if not model_uri.startswith(\"gs://\"):\n",
    "    raise ValueError(f\"Expected gs:// path but got {model_uri}\")\n"
   ]
  },
  {
   "cell_type": "code",
   "execution_count": 20,
   "metadata": {},
   "outputs": [],
   "source": [
    "bucket_name = model_uri.split(\"/\")[2]\n",
    "prefix = \"/\".join(model_uri.split(\"/\")[3:])\n",
    "\n",
    "# Initialize GCS client\n",
    "client = storage.Client(credentials=credentials)\n",
    "bucket = client.bucket(bucket_name)\n",
    "\n",
    "# List objects to find the .pkl file\n",
    "blobs = bucket.list_blobs(prefix=prefix)\n",
    "model_files = [blob for blob in blobs if blob.name.endswith('.pkl')]\n",
    "\n",
    "if not model_files:\n",
    "    raise ValueError(\"No .pkl file found in model artifacts\")\n",
    "\n",
    "for model in model_files:\n",
    "    if model.name.endswith(\"model.pkl\"):\n",
    "        model.download_to_filename(\"model.pkl\")"
   ]
  },
  {
   "cell_type": "code",
   "execution_count": 29,
   "metadata": {},
   "outputs": [],
   "source": [
    "req =     [{\n",
    "        \"MSSubClass\": 60,\n",
    "        \"MSZoning\": \"RL\",\n",
    "        \"LotFrontage\": 65.0,\n",
    "        \"LotArea\": 8450,\n",
    "        \"Street\": \"Pave\",\n",
    "        \"Alley\": None,\n",
    "        \"LotShape\": \"Reg\",\n",
    "        \"LandContour\": \"Lvl\",\n",
    "        \"Utilities\": \"AllPub\",\n",
    "        \"LotConfig\": \"Inside\",\n",
    "        \"LandSlope\": \"Gtl\",\n",
    "        \"Neighborhood\": \"CollgCr\",\n",
    "        \"Condition1\": \"Norm\",\n",
    "        \"Condition2\": \"Norm\",\n",
    "        \"BldgType\": \"1Fam\",\n",
    "        \"HouseStyle\": \"2Story\",\n",
    "        \"OverallQual\": 7,\n",
    "        \"OverallCond\": 5,\n",
    "        \"YearBuilt\": 2003,\n",
    "        \"YearRemodAdd\": 2003,\n",
    "        \"RoofStyle\": \"Gable\",\n",
    "        \"RoofMatl\": \"CompShg\",\n",
    "        \"Exterior1st\": \"VinylSd\",\n",
    "        \"Exterior2nd\": \"VinylSd\",\n",
    "        \"MasVnrType\": \"BrkFace\",\n",
    "        \"MasVnrArea\": 196.0,\n",
    "        \"ExterQual\": \"Gd\",\n",
    "        \"ExterCond\": \"TA\",\n",
    "        \"Foundation\": \"PConc\",\n",
    "        \"BsmtQual\": \"Gd\",\n",
    "        \"BsmtCond\": \"TA\",\n",
    "        \"BsmtExposure\": \"No\",\n",
    "        \"BsmtFinType1\": \"GLQ\",\n",
    "        \"BsmtFinSF1\": 706,\n",
    "        \"BsmtFinType2\": \"Unf\",\n",
    "        \"BsmtFinSF2\": 0,\n",
    "        \"BsmtUnfSF\": 150,\n",
    "        \"TotalBsmtSF\": 856,\n",
    "        \"Heating\": \"GasA\",\n",
    "        \"HeatingQC\": \"Ex\",\n",
    "        \"CentralAir\": \"Y\",\n",
    "        \"Electrical\": \"SBrkr\",\n",
    "        \"1stFlrSF\": 856,\n",
    "        \"2ndFlrSF\": 854,\n",
    "        \"LowQualFinSF\": 0,\n",
    "        \"GrLivArea\": 1710,\n",
    "        \"BsmtFullBath\": 1,\n",
    "        \"BsmtHalfBath\": 0,\n",
    "        \"FullBath\": 2,\n",
    "        \"HalfBath\": 1,\n",
    "        \"BedroomAbvGr\": 3,\n",
    "        \"KitchenAbvGr\": 1,\n",
    "        \"KitchenQual\": \"Gd\",\n",
    "        \"TotRmsAbvGrd\": 8,\n",
    "        \"Functional\": \"Typ\",\n",
    "        \"Fireplaces\": 0,\n",
    "        \"FireplaceQu\": None,\n",
    "        \"GarageType\": \"Attchd\",\n",
    "        \"GarageYrBlt\": 2003.0,\n",
    "        \"GarageFinish\": \"RFn\",\n",
    "        \"GarageCars\": 2,\n",
    "        \"GarageArea\": 548,\n",
    "        \"GarageQual\": \"TA\",\n",
    "        \"GarageCond\": \"TA\",\n",
    "        \"PavedDrive\": \"Y\",\n",
    "        \"WoodDeckSF\": 0,\n",
    "        \"OpenPorchSF\": 61,\n",
    "        \"EnclosedPorch\": 0,\n",
    "        \"3SsnPorch\": 0,\n",
    "        \"ScreenPorch\": 0,\n",
    "        \"PoolArea\": 0,\n",
    "        \"PoolQC\": None,\n",
    "        \"Fence\": None,\n",
    "        \"MiscFeature\": None,\n",
    "        \"MiscVal\": 0,\n",
    "        \"MoSold\": 2,\n",
    "        \"YrSold\": 2008,\n",
    "        \"SaleType\": \"WD\",\n",
    "        \"SaleCondition\": \"Normal\"\n",
    "    }]"
   ]
  },
  {
   "cell_type": "code",
   "execution_count": 9,
   "metadata": {},
   "outputs": [],
   "source": [
    "import pandas as pd"
   ]
  },
  {
   "cell_type": "code",
   "execution_count": 30,
   "metadata": {},
   "outputs": [],
   "source": [
    "req_df = pd.DataFrame(req)"
   ]
  },
  {
   "cell_type": "code",
   "execution_count": 31,
   "metadata": {},
   "outputs": [
    {
     "data": {
      "text/html": [
       "<div>\n",
       "<style scoped>\n",
       "    .dataframe tbody tr th:only-of-type {\n",
       "        vertical-align: middle;\n",
       "    }\n",
       "\n",
       "    .dataframe tbody tr th {\n",
       "        vertical-align: top;\n",
       "    }\n",
       "\n",
       "    .dataframe thead th {\n",
       "        text-align: right;\n",
       "    }\n",
       "</style>\n",
       "<table border=\"1\" class=\"dataframe\">\n",
       "  <thead>\n",
       "    <tr style=\"text-align: right;\">\n",
       "      <th></th>\n",
       "      <th>MSSubClass</th>\n",
       "      <th>MSZoning</th>\n",
       "      <th>LotFrontage</th>\n",
       "      <th>LotArea</th>\n",
       "      <th>Street</th>\n",
       "      <th>Alley</th>\n",
       "      <th>LotShape</th>\n",
       "      <th>LandContour</th>\n",
       "      <th>Utilities</th>\n",
       "      <th>LotConfig</th>\n",
       "      <th>...</th>\n",
       "      <th>ScreenPorch</th>\n",
       "      <th>PoolArea</th>\n",
       "      <th>PoolQC</th>\n",
       "      <th>Fence</th>\n",
       "      <th>MiscFeature</th>\n",
       "      <th>MiscVal</th>\n",
       "      <th>MoSold</th>\n",
       "      <th>YrSold</th>\n",
       "      <th>SaleType</th>\n",
       "      <th>SaleCondition</th>\n",
       "    </tr>\n",
       "  </thead>\n",
       "  <tbody>\n",
       "    <tr>\n",
       "      <th>0</th>\n",
       "      <td>60</td>\n",
       "      <td>RL</td>\n",
       "      <td>65.0</td>\n",
       "      <td>8450</td>\n",
       "      <td>Pave</td>\n",
       "      <td>None</td>\n",
       "      <td>Reg</td>\n",
       "      <td>Lvl</td>\n",
       "      <td>AllPub</td>\n",
       "      <td>Inside</td>\n",
       "      <td>...</td>\n",
       "      <td>0</td>\n",
       "      <td>0</td>\n",
       "      <td>None</td>\n",
       "      <td>None</td>\n",
       "      <td>None</td>\n",
       "      <td>0</td>\n",
       "      <td>2</td>\n",
       "      <td>2008</td>\n",
       "      <td>WD</td>\n",
       "      <td>Normal</td>\n",
       "    </tr>\n",
       "  </tbody>\n",
       "</table>\n",
       "<p>1 rows × 79 columns</p>\n",
       "</div>"
      ],
      "text/plain": [
       "   MSSubClass MSZoning  LotFrontage  LotArea Street Alley LotShape  \\\n",
       "0          60       RL         65.0     8450   Pave  None      Reg   \n",
       "\n",
       "  LandContour Utilities LotConfig  ... ScreenPorch PoolArea PoolQC Fence  \\\n",
       "0         Lvl    AllPub    Inside  ...           0        0   None  None   \n",
       "\n",
       "  MiscFeature MiscVal  MoSold  YrSold  SaleType  SaleCondition  \n",
       "0        None       0       2    2008        WD         Normal  \n",
       "\n",
       "[1 rows x 79 columns]"
      ]
     },
     "execution_count": 31,
     "metadata": {},
     "output_type": "execute_result"
    }
   ],
   "source": [
    "req_df.head()"
   ]
  },
  {
   "cell_type": "code",
   "execution_count": null,
   "metadata": {},
   "outputs": [],
   "source": [
    "import joblib\n",
    "model = joblib.load(\"model.pkl\")"
   ]
  },
  {
   "cell_type": "code",
   "execution_count": 33,
   "metadata": {},
   "outputs": [
    {
     "data": {
      "text/plain": [
       "array([12.14823236])"
      ]
     },
     "execution_count": 33,
     "metadata": {},
     "output_type": "execute_result"
    }
   ],
   "source": [
    "model.predict(req_df)"
   ]
  },
  {
   "cell_type": "code",
   "execution_count": 34,
   "metadata": {},
   "outputs": [
    {
     "name": "stdout",
     "output_type": "stream",
     "text": [
      "Creating Model\n",
      "Create Model backing LRO: projects/954208583758/locations/us-central1/models/4752754459782676480/operations/6930969354699800576\n",
      "Model created. Resource name: projects/954208583758/locations/us-central1/models/4752754459782676480@1\n",
      "To use this Model in another session:\n",
      "model = aiplatform.Model('projects/954208583758/locations/us-central1/models/4752754459782676480@1')\n"
     ]
    }
   ],
   "source": [
    "model = aiplatform.Model.upload(\n",
    "    display_name=\"test-from-container\",\n",
    "    artifact_uri=f\"gs://house-pricing-tryolabs/artifacts\",\n",
    "    serving_container_image_uri=\"us-central1-docker.pkg.dev/level-agent-451514-c0/ml-housing-repo/housing-model\",\n",
    ")"
   ]
  },
  {
   "cell_type": "code",
   "execution_count": 5,
   "metadata": {},
   "outputs": [],
   "source": [
    "model_name = \"my-first-models\"\n",
    "\n",
    "model_registry = aiplatform.Model.list(filter=f'display_name=\"{model_name}\"')"
   ]
  },
  {
   "cell_type": "code",
   "execution_count": 6,
   "metadata": {},
   "outputs": [
    {
     "data": {
      "text/plain": [
       "[<google.cloud.aiplatform.models.Model object at 0x74a19ac1feb0> \n",
       " resource name: projects/954208583758/locations/us-central1/models/1372802939441119232]"
      ]
     },
     "execution_count": 6,
     "metadata": {},
     "output_type": "execute_result"
    }
   ],
   "source": [
    "model_registry"
   ]
  },
  {
   "cell_type": "code",
   "execution_count": 13,
   "metadata": {},
   "outputs": [],
   "source": [
    "# Find existing model (highest version)\n",
    "existing_model = None\n",
    "highest_version = -1\n",
    "for model in model_registry:\n",
    "    try:\n",
    "        version_id = int(model.version_id)\n",
    "        if version_id > highest_version:\n",
    "            highest_version = version_id\n",
    "            existing_model = model\n",
    "    except (ValueError, TypeError):\n",
    "        logging.warning(f\"Invalid version ID for model: {model.resource_name}\")\n",
    "        continue\n",
    "\n",
    "if not existing_model:\n",
    "    logging.warning(\"No valid existing model found.\")"
   ]
  },
  {
   "cell_type": "code",
   "execution_count": 14,
   "metadata": {},
   "outputs": [],
   "source": [
    "existing_rmse = float(existing_model.labels.get(\"rmse\", float(\"inf\")))"
   ]
  },
  {
   "cell_type": "code",
   "execution_count": 15,
   "metadata": {},
   "outputs": [
    {
     "data": {
      "text/plain": [
       "0.145"
      ]
     },
     "execution_count": 15,
     "metadata": {},
     "output_type": "execute_result"
    }
   ],
   "source": [
    "existing_rmse"
   ]
  },
  {
   "cell_type": "code",
   "execution_count": 12,
   "metadata": {},
   "outputs": [
    {
     "data": {
      "text/plain": [
       "<google.cloud.aiplatform.models.Model object at 0x74a19ac1feb0> \n",
       "resource name: projects/954208583758/locations/us-central1/models/1372802939441119232"
      ]
     },
     "execution_count": 12,
     "metadata": {},
     "output_type": "execute_result"
    }
   ],
   "source": [
    "model.update(labels={\"rmse\": str(0.145)})"
   ]
  },
  {
   "cell_type": "code",
   "execution_count": null,
   "metadata": {},
   "outputs": [
    {
     "ename": "NameError",
     "evalue": "name 'aiplatform' is not defined",
     "output_type": "error",
     "traceback": [
      "\u001b[0;31m---------------------------------------------------------------------------\u001b[0m",
      "\u001b[0;31mNameError\u001b[0m                                 Traceback (most recent call last)",
      "Cell \u001b[0;32mIn[2], line 1\u001b[0m\n\u001b[0;32m----> 1\u001b[0m \u001b[43maiplatform\u001b[49m\n",
      "\u001b[0;31mNameError\u001b[0m: name 'aiplatform' is not defined"
     ]
    }
   ],
   "source": [
    "\n",
    "\n",
    "def register_model_to_vertex(model_name: str, rmse: float, pipeline_root: str) -> Optional[aiplatform.Model]:\n",
    "    try:\n",
    "        # Use a filter to find models with the exact display name.\n",
    "        model_registry = aiplatform.Model.list(filter=f'display_name=\"{model_name}\"')\n",
    "    except (PermissionDenied, NotFound) as e:\n",
    "        logging.error(f\"Error listing models: {e}\")\n",
    "        return None\n",
    "\n",
    "    if not model_registry:\n",
    "        print(f\"Registering the first version of {model_name}...\")\n",
    "        try:\n",
    "            model = aiplatform.Model.upload(\n",
    "                display_name=model_name,\n",
    "                artifact_uri=pipeline_root,\n",
    "                serving_container_image_uri=\"us-central1-docker.pkg.dev/level-agent-451514-c0/ml-housing-repo/housing-model\",\n",
    "            )\n",
    "            print(f\"Model {model_name} registered as version 1.\")\n",
    "\n",
    "            model.update(labels={\"rmse\": str(rmse)})\n",
    "            return model\n",
    "        except Exception as e:\n",
    "            logging.error(f\"Error registering model: {e}\")\n",
    "            raise\n",
    "\n",
    "    else:\n",
    "        # Find existing model (highest version)\n",
    "        existing_model = None\n",
    "        highest_version = -1\n",
    "        for model in model_registry:\n",
    "            try:\n",
    "                version_id = int(model.version_id)\n",
    "                if version_id > highest_version:\n",
    "                    highest_version = version_id\n",
    "                    existing_model = model\n",
    "            except (ValueError, TypeError):\n",
    "                logging.warning(f\"Invalid version ID for model: {model.resource_name}\")\n",
    "                continue\n",
    "\n",
    "        if not existing_model:\n",
    "            logging.warning(\"No valid existing model found.\")\n",
    "            return None\n",
    "\n",
    "        existing_rmse = float(existing_model.labels.get(\"rmse\", float(\"inf\")))\n",
    "\n",
    "        if rmse < existing_rmse:\n",
    "            logging.info(f\"Registering a new version of {model_name} with RMSE {rmse} (previous: {existing_rmse})...\")\n",
    "            model = aiplatform.Model.upload(\n",
    "                display_name=model_name,\n",
    "                artifact_uri=pipeline_root,\n",
    "                serving_container_image_uri=\"us-central1-docker.pkg.dev/level-agent-451514-c0/ml-housing-repo/housing-model\",\n",
    "            )\n",
    "            logging.info(f\"Model {model_name} registered as a new version.\")\n",
    "\n",
    "            model.update(labels={\"rmse\": str(rmse)})\n",
    "            return model\n",
    "        else:\n",
    "            logging.info(f\"New model RMSE {rmse} is not lower than existing RMSE {existing_rmse}. Skipping registration.\")\n",
    "            return None"
   ]
  },
  {
   "cell_type": "code",
   "execution_count": null,
   "metadata": {},
   "outputs": [],
   "source": []
  }
 ],
 "metadata": {
  "kernelspec": {
   "display_name": ".venv",
   "language": "python",
   "name": "python3"
  },
  "language_info": {
   "codemirror_mode": {
    "name": "ipython",
    "version": 3
   },
   "file_extension": ".py",
   "mimetype": "text/x-python",
   "name": "python",
   "nbconvert_exporter": "python",
   "pygments_lexer": "ipython3",
   "version": "3.10.16"
  }
 },
 "nbformat": 4,
 "nbformat_minor": 2
}
